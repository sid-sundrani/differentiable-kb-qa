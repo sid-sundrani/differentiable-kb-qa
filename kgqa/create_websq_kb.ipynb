{
 "cells": [
  {
   "cell_type": "markdown",
   "id": "7b93a91c",
   "metadata": {},
   "source": [
    "## Create KB from WebQSP Data \n",
    "* Load the train,test KB triplets from KGQA WebQSP data \n",
    "* Write all the KB Triplets from there"
   ]
  },
  {
   "cell_type": "code",
   "execution_count": 1,
   "id": "4888014a",
   "metadata": {},
   "outputs": [],
   "source": [
    "from pathlib import Path \n",
    "import os \n",
    "\n",
    "root_dir = Path(os.getcwd())\n",
    "\n",
    "data_dir = root_dir/'datasets/WebQSP/'"
   ]
  },
  {
   "cell_type": "code",
   "execution_count": 2,
   "id": "e9ced04e",
   "metadata": {},
   "outputs": [
    {
     "name": "stdout",
     "output_type": "stream",
     "text": [
      "Number of entities  28111\n",
      "Number of relations  483\n",
      "Number of entities  38456\n",
      "Number of relations  555\n"
     ]
    }
   ],
   "source": [
    "import json \n",
    "import os \n",
    "from pathlib import Path \n",
    "\n",
    "def get_ent_ids_qa(path, id_to_ent={}, relations_found=set()):\n",
    "    \"\"\"\n",
    "    Get entid to ent string from question pairs\n",
    "    \n",
    "    \n",
    "    \"\"\"    \n",
    "    with open(path, encoding='utf-8') as f: \n",
    "        data = json.load(f)\n",
    "\n",
    "    for question in data['Questions']:\n",
    "        question_string = question['RawQuestion']\n",
    "        relation_path = question['Parses'][0]['InferentialChain']\n",
    "        \n",
    "        if not relation_path:\n",
    "            continue \n",
    "            \n",
    "        answer_entities = [row['EntityName'] for row in question['Parses'][0]['Answers']]\n",
    "        answer_entity_ids = [row['AnswerArgument'] for row in question['Parses'][0]['Answers']]\n",
    "                \n",
    "        subject_entities = question['Parses'][0]['TopicEntityName']\n",
    "        subject_entity_id = question['Parses'][0]['TopicEntityMid']\n",
    "    \n",
    "        assert len(answer_entities) == len(answer_entity_ids)\n",
    "        \n",
    "        for entid, ent_name in zip(answer_entity_ids, answer_entities):\n",
    "            if entid not in id_to_ent:\n",
    "                id_to_ent[entid] = ent_name\n",
    "                \n",
    "                \n",
    "        if subject_entity_id not in id_to_ent:\n",
    "            id_to_ent[subject_entity_id] = subject_entities\n",
    "            \n",
    "\n",
    "            \n",
    "        relations_found.update(relation_path)\n",
    "            \n",
    "    print(\"Number of entities \", len(id_to_ent))\n",
    "    print(\"Number of relations \", len(relations_found))\n",
    "    \n",
    "    return id_to_ent, relations_found\n",
    "\n",
    "\n",
    "root_dir = Path(os.getcwd())\n",
    "\n",
    "\n",
    "if not os.path.exists(root_dir/'datasets/WebQSP/data_processed'):\n",
    "    os.mkdir(root_dir/'datasets/WebQSP/data_processed')\n",
    "\n",
    "\n",
    "path_train = root_dir/'datasets/WebQSP/data/WebQSP.train.json'\n",
    "path_test = root_dir/'datasets/WebQSP/data/WebQSP.test.json'\n",
    "\n",
    "\n",
    "id_to_ent, relations_found = get_ent_ids_qa(path_train)\n",
    "id_to_ent, relations_found = get_ent_ids_qa(path_test, id_to_ent, relations_found)"
   ]
  },
  {
   "cell_type": "code",
   "execution_count": 3,
   "id": "5acf2cb0",
   "metadata": {},
   "outputs": [
    {
     "name": "stdout",
     "output_type": "stream",
     "text": [
      "Number of entities in KB 1886681\n",
      "Number of relations in KB 572\n",
      "Number of triplets in KB 5778443\n"
     ]
    }
   ],
   "source": [
    "kg_dir = data_dir/\"data_embedkgqa/EmbedKGQA/data/fbwq_full\"\n",
    "\n",
    "train_kg_path = kg_dir/'train.txt'\n",
    "test_kg_path = kg_dir/'test.txt'\n",
    "\n",
    "kg_data = set()\n",
    "all_entities = set()\n",
    "all_relations = set()\n",
    "\n",
    "for kg_path in [train_kg_path, test_kg_path]:\n",
    "    with open(train_kg_path, encoding='utf-8') as f:\n",
    "        for line in f: \n",
    "            res = line.split('\\t')\n",
    "\n",
    "            headid, relname, tailid = res\n",
    "            \n",
    "            headid = headid.strip()\n",
    "            tailid = tailid.strip()\n",
    "            relname = relname.strip()\n",
    "            \n",
    "\n",
    "            all_entities.add(headid)\n",
    "            all_entities.add(tailid)\n",
    "            all_relations.add(relname)\n",
    "            \n",
    "            kg_data.add((headid, relname, tailid))\n",
    "            \n",
    "            \n",
    "print('Number of entities in KB', len(all_entities))\n",
    "print('Number of relations in KB', len(all_relations))\n",
    "print('Number of triplets in KB', len(kg_data))            "
   ]
  },
  {
   "cell_type": "code",
   "execution_count": 4,
   "id": "deb482f5",
   "metadata": {},
   "outputs": [
    {
     "name": "stdout",
     "output_type": "stream",
     "text": [
      "Num Missing Entities 141\n",
      "Num Missing Relations 18\n"
     ]
    }
   ],
   "source": [
    "missing = set(id_to_ent).difference(all_entities)\n",
    "missing_rels = relations_found.difference(all_relations)\n",
    "\n",
    "print('Num Missing Entities', len(missing))\n",
    "print('Num Missing Relations', len(missing_rels))"
   ]
  },
  {
   "cell_type": "code",
   "execution_count": 5,
   "id": "a57f267a",
   "metadata": {},
   "outputs": [],
   "source": [
    "write_dir = data_dir/'data_processed'\n",
    "\n",
    "with open(write_dir/'qa_ents_missing_in_kb.json', 'w') as f: \n",
    "    json.dump(list(missing), f)\n",
    "\n",
    "with open(write_dir/'qa_relations_missing_in_kb.json', 'w') as f: \n",
    "    json.dump(list(missing_rels), f)\n",
    "    \n",
    "    \n",
    "with open(write_dir/'qa_ent_to_id.json', 'w') as f: \n",
    "    json.dump(dict(id_to_ent), f)\n",
    "    \n",
    "kb_path = write_dir/'kb.txt'\n",
    "\n",
    "with open(kb_path, 'w', encoding='utf-8') as f: \n",
    "    f.write(\"\")\n",
    "\n",
    "    \n",
    "fp = open(kb_path, 'a', encoding='utf-8')\n",
    "for row in kg_data: \n",
    "    assert len(row) == 3\n",
    "    write = \"|\".join(row)\n",
    "    \n",
    "    fp.write(write+'\\n')\n",
    "    \n",
    "fp.close()"
   ]
  },
  {
   "cell_type": "code",
   "execution_count": null,
   "id": "2c93350a",
   "metadata": {},
   "outputs": [],
   "source": []
  }
 ],
 "metadata": {
  "kernelspec": {
   "display_name": "Python 3 (ipykernel)",
   "language": "python",
   "name": "python3"
  },
  "language_info": {
   "codemirror_mode": {
    "name": "ipython",
    "version": 3
   },
   "file_extension": ".py",
   "mimetype": "text/x-python",
   "name": "python",
   "nbconvert_exporter": "python",
   "pygments_lexer": "ipython3",
   "version": "3.7.1"
  }
 },
 "nbformat": 4,
 "nbformat_minor": 5
}
