{
 "cells": [
  {
   "cell_type": "markdown",
   "id": "2f49b231",
   "metadata": {},
   "source": [
    "### Build model and test follow operation"
   ]
  },
  {
   "cell_type": "code",
   "execution_count": 1,
   "id": "b7313121",
   "metadata": {},
   "outputs": [],
   "source": [
    "import os\n",
    "import sys \n",
    "from pathlib import Path \n",
    "\n",
    "%load_ext autoreload\n",
    "%autoreload 2\n",
    "\n",
    "\n",
    "base_dir = Path(os.getcwd()).parents[0]\n",
    "sys.path.append(str(base_dir))\n",
    "\n",
    "from utils import data_utils"
   ]
  },
  {
   "cell_type": "markdown",
   "id": "d09d44f1",
   "metadata": {},
   "source": [
    "### Load Triplets"
   ]
  },
  {
   "cell_type": "code",
   "execution_count": 2,
   "id": "2a8d5fe9",
   "metadata": {},
   "outputs": [
    {
     "name": "stdout",
     "output_type": "stream",
     "text": [
      "num entities: 43234\n",
      "num relations: 9\n",
      "num triplets  134741\n"
     ]
    }
   ],
   "source": [
    "data_dir = base_dir/'data'\n",
    "kg_path = data_dir/'kb.txt'\n",
    "os.listdir(data_dir)\n",
    "assert kg_path.exists()\n",
    "\n",
    "triplets, entity_to_idx, relation_to_idx, idx_to_entity, idx_to_relation = data_utils.load_triplets(kg_path)\n",
    "num_entities = len(entity_to_idx)"
   ]
  },
  {
   "cell_type": "markdown",
   "id": "a35fa2d0",
   "metadata": {},
   "source": [
    "### Load question transformer"
   ]
  },
  {
   "cell_type": "code",
   "execution_count": 3,
   "id": "9aa7fe16",
   "metadata": {},
   "outputs": [],
   "source": [
    "from torch.utils.data import Dataset, DataLoader\n",
    "from transformers import AutoTokenizer, AutoModel\n",
    "import torch\n",
    "import torch.nn.functional as F\n",
    "\n",
    "#Mean Pooling - Take attention mask into account for correct averaging\n",
    "def mean_pooling(model_output, attention_mask):\n",
    "    token_embeddings = model_output[0] #First element of model_output contains all token embeddings\n",
    "    input_mask_expanded = attention_mask.unsqueeze(-1).expand(token_embeddings.size()).float()\n",
    "    return torch.sum(token_embeddings * input_mask_expanded, 1) / torch.clamp(input_mask_expanded.sum(1), min=1e-9)\n",
    "\n",
    "# Sentences we want sentence embeddings for\n",
    "sentences = ['This is an example sentence', 'Each sentence is converted']\n",
    "\n",
    "# # Load model from HuggingFace Hub\n",
    "# tokenizer = AutoTokenizer.from_pretrained('microsoft/MiniLM-L12-H384-uncased')\n",
    "# model = AutoModel.from_pretrained('microsoft/MiniLM-L12-H384-uncased')\n",
    "\n",
    "\n",
    "\n",
    "\n",
    "tokenizer = AutoTokenizer.from_pretrained('sentence-transformers/all-MiniLM-L6-v2')\n",
    "trans_model = AutoModel.from_pretrained('sentence-transformers/all-MiniLM-L6-v2')\n",
    "trans_model.train()\n",
    "\n",
    "\n",
    "for param in trans_model.parameters():\n",
    "    param.requires_grad = False\n",
    "    \n",
    "for layer in trans_model.encoder.layer[4].parameters():\n",
    "    layer.requires_grad_ = True\n",
    "\n",
    "for param in trans_model.encoder.layer[5].parameters():\n",
    "    param.requires_grad = True\n",
    "    \n",
    "for param in trans_model.pooler.parameters(): \n",
    "    param.requires_grad = True"
   ]
  },
  {
   "cell_type": "markdown",
   "id": "155bf0c9",
   "metadata": {},
   "source": [
    "### Load dataset "
   ]
  },
  {
   "cell_type": "code",
   "execution_count": 4,
   "id": "eb337f8c",
   "metadata": {},
   "outputs": [
    {
     "name": "stdout",
     "output_type": "stream",
     "text": [
      "Num qa pairs loaded: 9992\n",
      "Num qa pairs loaded: 96106\n",
      "Num qa pairs loaded: 9947\n",
      "number of entities missing 0: []\n"
     ]
    }
   ],
   "source": [
    "import warnings\n",
    "\n",
    "qa_dir = data_dir/'1-hop-20220731T054004Z-001/1-hop/vanilla'\n",
    "qa_paths = os.listdir(qa_dir)\n",
    "\n",
    "qa_train = list(filter(lambda x: 'train' in x, qa_paths))[0]\n",
    "qa_test = list(filter(lambda x: 'test' in x, qa_paths))[0]\n",
    "qa_val = list(filter(lambda x: 'dev' in x, qa_paths))[0]\n",
    "\n",
    "val_pairs = data_utils.load_qa_pairs(qa_dir/qa_val)\n",
    "train_pairs = data_utils.load_qa_pairs(qa_dir/qa_train)\n",
    "test_pairs = data_utils.load_qa_pairs(qa_dir/qa_test)\n",
    "\n",
    "\n",
    "data_utils.santity_check(val_pairs, entity_to_idx)"
   ]
  },
  {
   "cell_type": "markdown",
   "id": "ab7c0cde",
   "metadata": {},
   "source": [
    "### Tokenize dataset"
   ]
  },
  {
   "cell_type": "code",
   "execution_count": 5,
   "id": "67de24e6",
   "metadata": {},
   "outputs": [],
   "source": [
    "# # Tokenize sentences\n",
    "val_tokens = tokenizer([row[0] for row in val_pairs], padding=True, truncation=True, max_length=100, return_tensors='pt')\n",
    "train_tokens = tokenizer([row[0] for row in train_pairs], padding=True, truncation=True, max_length=100, return_tensors='pt')\n",
    "test_tokens = tokenizer([row[0] for row in test_pairs], padding=True, truncation=True, max_length=100, return_tensors='pt')"
   ]
  },
  {
   "cell_type": "markdown",
   "id": "16505532",
   "metadata": {},
   "source": [
    "### Create Torch Dataset"
   ]
  },
  {
   "cell_type": "code",
   "execution_count": 23,
   "id": "1eb7933f",
   "metadata": {
    "scrolled": true
   },
   "outputs": [],
   "source": [
    "class QADataset(Dataset):\n",
    "    def __init__(self, qa_pairs, q_tokens, entity_to_idx):\n",
    "        self.qa_pairs = qa_pairs\n",
    "        self.entity_to_idx = entity_to_idx\n",
    "        self.q_tokens = q_tokens\n",
    "\n",
    "    def __len__(self):\n",
    "        return len(self.qa_pairs)\n",
    "\n",
    "    def __getitem__(self, idx):\n",
    "        pad = 5\n",
    "        token_sample = {key: self.q_tokens[key][idx, :] for key in self.q_tokens}\n",
    "        \n",
    "        head_entities = self.qa_pairs[idx][2]\n",
    "        head_entities = [self.entity_to_idx[entity] for entity in head_entities]\n",
    "                \n",
    "        head_entities = self.create_onehot_entity_vector(head_entities)\n",
    "        \n",
    "        tail_entities = self.qa_pairs[idx][1]\n",
    "        tail_entities = [self.entity_to_idx[entity] for entity in tail_entities]\n",
    "        \n",
    "        tail_entities = self.create_onehot_entity_vector(tail_entities)\n",
    "        \n",
    "        return token_sample, head_entities, tail_entities\n",
    "        \n",
    "    \n",
    "    def pad_entity(self, list1, pad=5):\n",
    "        # max length should be this \n",
    "        if len(list1) > pad:\n",
    "            list1 = list1[:pad]\n",
    "        \n",
    "        assert len(list1) > 0\n",
    "        \n",
    "        list1 = list1 + [-1] * (pad-len(list1))\n",
    "        return list1\n",
    "    \n",
    "    def create_onehot_entity_vector(self, entities):\n",
    "        \"\"\"\n",
    "        Inputs: entities: list of ints \n",
    "        \n",
    "        \"\"\"\n",
    "        num_entities = len(self.entity_to_idx)\n",
    "        \n",
    "        entity_tensor = torch.zeros(num_entities)\n",
    "        entity_tensor[entities] = 1\n",
    "        \n",
    "        return entity_tensor\n",
    "        \n",
    "        \n",
    "        \n",
    "val_dataset = QADataset(val_pairs, val_tokens, entity_to_idx)\n",
    "test_dataset = QADataset(test_pairs, test_tokens, entity_to_idx)\n",
    "train_dataset = QADataset(train_pairs, train_tokens, entity_to_idx)\n",
    "\n",
    "val_dl = DataLoader(val_dataset, batch_size=30)\n",
    "train_dl = DataLoader(train_dataset, batch_size=30, shuffle=True)\n",
    "test_dl = DataLoader(test_dataset, batch_size=10)\n",
    "\n",
    "for batch in train_dl:\n",
    "    break\n",
    "    "
   ]
  },
  {
   "cell_type": "code",
   "execution_count": 7,
   "id": "5d59bf82",
   "metadata": {},
   "outputs": [],
   "source": [
    "# ## Test forward pass of transfomer \n",
    "\n",
    "# with torch.no_grad():\n",
    "#     out = model(**batch[0])\n",
    "#     out.pooler_output"
   ]
  },
  {
   "cell_type": "markdown",
   "id": "599028cf",
   "metadata": {},
   "source": [
    "### Create differentiable KG"
   ]
  },
  {
   "cell_type": "code",
   "execution_count": 8,
   "id": "b266126c",
   "metadata": {},
   "outputs": [],
   "source": [
    "subject_matrix, rel_matrix, object_matrix = data_utils.create_differentiable_kg(triplets, entity_to_idx, relation_to_idx)\n",
    "object_matrix = torch.transpose(object_matrix, 0, 1)\n"
   ]
  },
  {
   "cell_type": "markdown",
   "id": "afb87361",
   "metadata": {},
   "source": [
    "### Create model"
   ]
  },
  {
   "cell_type": "code",
   "execution_count": 24,
   "id": "76949ebe",
   "metadata": {},
   "outputs": [],
   "source": [
    "import models_onehop\n",
    "\n",
    "net = models_onehop.GNNLightning(trans_model, subject_matrix, rel_matrix, object_matrix)"
   ]
  },
  {
   "cell_type": "code",
   "execution_count": 25,
   "id": "91c56fed",
   "metadata": {
    "scrolled": true
   },
   "outputs": [
    {
     "name": "stderr",
     "output_type": "stream",
     "text": [
      "GPU available: True, used: True\n",
      "TPU available: False, using: 0 TPU cores\n",
      "IPU available: False, using: 0 IPUs\n",
      "HPU available: False, using: 0 HPUs\n",
      "LOCAL_RANK: 0 - CUDA_VISIBLE_DEVICES: [0]\n",
      "\n",
      "  | Name        | Type              | Params\n",
      "--------------------------------------------------\n",
      "0 | trans_model | BertModel         | 22.7 M\n",
      "1 | decoder     | Linear            | 3.5 K \n",
      "2 | loss        | BCEWithLogitsLoss | 0     \n",
      "--------------------------------------------------\n",
      "22.7 M    Trainable params\n",
      "0         Non-trainable params\n",
      "22.7 M    Total params\n",
      "90.867    Total estimated model params size (MB)\n"
     ]
    },
    {
     "data": {
      "application/vnd.jupyter.widget-view+json": {
       "model_id": "",
       "version_major": 2,
       "version_minor": 0
      },
      "text/plain": [
       "Sanity Checking: 0it [00:00, ?it/s]"
      ]
     },
     "metadata": {},
     "output_type": "display_data"
    },
    {
     "name": "stderr",
     "output_type": "stream",
     "text": [
      "C:\\Users\\Sidhant\\AppData\\Local\\Programs\\Miniconda3\\envs\\gnn\\lib\\site-packages\\pytorch_lightning\\trainer\\connectors\\data_connector.py:245: PossibleUserWarning: The dataloader, val_dataloader 0, does not have many workers which may be a bottleneck. Consider increasing the value of the `num_workers` argument` (try 12 which is the number of cpus on this machine) in the `DataLoader` init to improve performance.\n",
      "  category=PossibleUserWarning,\n"
     ]
    },
    {
     "data": {
      "application/vnd.jupyter.widget-view+json": {
       "model_id": "4399846488174f42ab41c8cd9e94cca1",
       "version_major": 2,
       "version_minor": 0
      },
      "text/plain": [
       "Training: 0it [00:00, ?it/s]"
      ]
     },
     "metadata": {},
     "output_type": "display_data"
    },
    {
     "name": "stdout",
     "output_type": "stream",
     "text": [
      "tensor(0.6931, device='cuda:0',\n",
      "       grad_fn=<BinaryCrossEntropyWithLogitsBackward0>)\n",
      "tensor(0.6932, device='cuda:0',\n",
      "       grad_fn=<BinaryCrossEntropyWithLogitsBackward0>)\n",
      "tensor(0.6931, device='cuda:0',\n",
      "       grad_fn=<BinaryCrossEntropyWithLogitsBackward0>)\n",
      "tensor(0.6931, device='cuda:0',\n",
      "       grad_fn=<BinaryCrossEntropyWithLogitsBackward0>)\n",
      "tensor(0.6931, device='cuda:0',\n",
      "       grad_fn=<BinaryCrossEntropyWithLogitsBackward0>)\n",
      "tensor(0.6931, device='cuda:0',\n",
      "       grad_fn=<BinaryCrossEntropyWithLogitsBackward0>)\n",
      "tensor(0.6931, device='cuda:0',\n",
      "       grad_fn=<BinaryCrossEntropyWithLogitsBackward0>)\n",
      "tensor(0.6931, device='cuda:0',\n",
      "       grad_fn=<BinaryCrossEntropyWithLogitsBackward0>)\n",
      "tensor(0.6931, device='cuda:0',\n",
      "       grad_fn=<BinaryCrossEntropyWithLogitsBackward0>)\n",
      "tensor(0.6931, device='cuda:0',\n",
      "       grad_fn=<BinaryCrossEntropyWithLogitsBackward0>)\n",
      "tensor(0.6931, device='cuda:0',\n",
      "       grad_fn=<BinaryCrossEntropyWithLogitsBackward0>)\n",
      "tensor(0.6931, device='cuda:0',\n",
      "       grad_fn=<BinaryCrossEntropyWithLogitsBackward0>)\n",
      "tensor(0.6931, device='cuda:0',\n",
      "       grad_fn=<BinaryCrossEntropyWithLogitsBackward0>)\n",
      "tensor(0.6931, device='cuda:0',\n",
      "       grad_fn=<BinaryCrossEntropyWithLogitsBackward0>)\n",
      "tensor(0.6931, device='cuda:0',\n",
      "       grad_fn=<BinaryCrossEntropyWithLogitsBackward0>)\n",
      "tensor(0.6931, device='cuda:0',\n",
      "       grad_fn=<BinaryCrossEntropyWithLogitsBackward0>)\n",
      "tensor(0.6931, device='cuda:0',\n",
      "       grad_fn=<BinaryCrossEntropyWithLogitsBackward0>)\n",
      "tensor(0.6931, device='cuda:0',\n",
      "       grad_fn=<BinaryCrossEntropyWithLogitsBackward0>)\n",
      "tensor(0.6931, device='cuda:0',\n",
      "       grad_fn=<BinaryCrossEntropyWithLogitsBackward0>)\n",
      "tensor(0.6931, device='cuda:0',\n",
      "       grad_fn=<BinaryCrossEntropyWithLogitsBackward0>)\n",
      "tensor(0.6931, device='cuda:0',\n",
      "       grad_fn=<BinaryCrossEntropyWithLogitsBackward0>)\n",
      "tensor(0.6931, device='cuda:0',\n",
      "       grad_fn=<BinaryCrossEntropyWithLogitsBackward0>)\n",
      "tensor(0.6931, device='cuda:0',\n",
      "       grad_fn=<BinaryCrossEntropyWithLogitsBackward0>)\n",
      "tensor(0.6931, device='cuda:0',\n",
      "       grad_fn=<BinaryCrossEntropyWithLogitsBackward0>)\n",
      "tensor(0.6931, device='cuda:0',\n",
      "       grad_fn=<BinaryCrossEntropyWithLogitsBackward0>)\n",
      "tensor(0.6931, device='cuda:0',\n",
      "       grad_fn=<BinaryCrossEntropyWithLogitsBackward0>)\n",
      "tensor(0.6931, device='cuda:0',\n",
      "       grad_fn=<BinaryCrossEntropyWithLogitsBackward0>)\n",
      "tensor(0.6930, device='cuda:0',\n",
      "       grad_fn=<BinaryCrossEntropyWithLogitsBackward0>)\n",
      "tensor(0.6931, device='cuda:0',\n",
      "       grad_fn=<BinaryCrossEntropyWithLogitsBackward0>)\n",
      "tensor(0.6931, device='cuda:0',\n",
      "       grad_fn=<BinaryCrossEntropyWithLogitsBackward0>)\n",
      "tensor(0.6930, device='cuda:0',\n",
      "       grad_fn=<BinaryCrossEntropyWithLogitsBackward0>)\n",
      "tensor(0.6931, device='cuda:0',\n",
      "       grad_fn=<BinaryCrossEntropyWithLogitsBackward0>)\n",
      "tensor(0.6930, device='cuda:0',\n",
      "       grad_fn=<BinaryCrossEntropyWithLogitsBackward0>)\n"
     ]
    }
   ],
   "source": [
    "import pytorch_lightning as pl\n",
    "from pytorch_lightning.callbacks.early_stopping import EarlyStopping\n",
    "from pytorch_lightning.callbacks.model_checkpoint import ModelCheckpoint\n",
    "\n",
    "max_epochs = 1 \n",
    "USE_GPU = True \n",
    "\n",
    "early_stop_callback = EarlyStopping(monitor=\"val_loss\", \n",
    "                                    min_delta=0.0005,\n",
    "                                    patience=1, \n",
    "                                    verbose=False, \n",
    "                                    mode=\"max\")\n",
    "\n",
    "checkpoint_callback = ModelCheckpoint(monitor=f\"val_loss\",\n",
    "                                    save_top_k=1,\n",
    "                                      dirpath='checkpoints',\n",
    "                                      mode='max',\n",
    "                                    )\n",
    "\n",
    "callbacks=[early_stop_callback, checkpoint_callback]\n",
    "\n",
    "if USE_GPU:\n",
    "    net.object_matrix = net.object_matrix.cuda()\n",
    "    net.subject_matrix = net.subject_matrix.cuda()\n",
    "    net.rel_matrix = net.rel_matrix.cuda()\n",
    "    gpus = 1 \n",
    "else:\n",
    "    net = net.cpu()\n",
    "    net.object_matrix = net.object_matrix.cpu()\n",
    "    net.subject_matrix = net.subject_matrix.cpu()\n",
    "    net.rel_matrix = net.rel_matrix.cpu()\n",
    "    \n",
    "    gpus = 0\n",
    "    \n",
    "trainer = pl.Trainer(max_epochs=max_epochs, gpus=gpus)\n",
    "trainer.fit(net, train_dl, val_dl)\n",
    "\n",
    "CKPT_PATH = trainer.checkpoint_callback.best_model_path\n",
    "\n",
    "# net = net.load_from_checkpoint(CKPT_PATH, input_dim=dataset.num_node_features, hidden_dim=300, output_dim=dataset.num_classes, split_idx=None)\n",
    "# res = trainer.validate(net, loader)\n",
    "\n",
    "# test_res = trainer.test(net, loader)\n",
    "# valid_metrics.append(test_res[0]['test_acc'])\n",
    "\n",
    "# print('Number of epochs ran ',  trainer.current_epoch)\n",
    "# print('test metrics ', test_res)\n"
   ]
  },
  {
   "cell_type": "code",
   "execution_count": 28,
   "id": "0aac8025",
   "metadata": {},
   "outputs": [],
   "source": [
    "net = net.cpu()\n",
    "net.object_matrix = net.object_matrix.cpu()\n",
    "net.subject_matrix = net.subject_matrix.cpu()\n",
    "net.rel_matrix = net.rel_matrix.cpu()"
   ]
  },
  {
   "cell_type": "code",
   "execution_count": 29,
   "id": "65823514",
   "metadata": {
    "scrolled": true
   },
   "outputs": [
    {
     "name": "stdout",
     "output_type": "stream",
     "text": [
      "predictions sum tensor(-632.9448)\n",
      "predictions sum tensor(-276.6538)\n",
      "predictions sum tensor(-477.4096)\n",
      "predictions sum tensor(-601.9507)\n",
      "predictions sum tensor(-418.9074)\n",
      "predictions sum tensor(-511.5621)\n",
      "predictions sum tensor(-323.6661)\n",
      "done\n"
     ]
    }
   ],
   "source": [
    "net = net.train()\n",
    "for idx, batch in enumerate(train_dl):\n",
    "    with torch.no_grad():\n",
    "        trans_input, subject_vector, object_labels = batch\n",
    "        subject_vector2 = torch.transpose(subject_vector, 0, 1)\n",
    "\n",
    "        predictions = net(trans_input, subject_vector2)\n",
    "        loss = torch.nn.BCEWithLogitsLoss()(predictions, object_labels)\n",
    "        \n",
    "        print('predictions sum', predictions.sum())\n",
    "        \n",
    "        if idx > 5:\n",
    "            break\n",
    "    \n",
    "    \n",
    "print('done')"
   ]
  },
  {
   "cell_type": "code",
   "execution_count": 31,
   "id": "7327944c",
   "metadata": {},
   "outputs": [],
   "source": [
    "net = net.cpu()\n",
    "net.object_matrix = net.object_matrix.cpu()\n",
    "net.subject_matrix = net.subject_matrix.cpu()\n",
    "net.rel_matrix = net.rel_matrix.cpu()"
   ]
  },
  {
   "cell_type": "code",
   "execution_count": 33,
   "id": "48181b62",
   "metadata": {},
   "outputs": [
    {
     "name": "stdout",
     "output_type": "stream",
     "text": [
      "loss  tensor(0.6931, grad_fn=<BinaryCrossEntropyWithLogitsBackward0>)\n",
      "loss  tensor(0.6930, grad_fn=<BinaryCrossEntropyWithLogitsBackward0>)\n",
      "loss  tensor(0.6931, grad_fn=<BinaryCrossEntropyWithLogitsBackward0>)\n",
      "loss  tensor(0.6930, grad_fn=<BinaryCrossEntropyWithLogitsBackward0>)\n",
      "loss  tensor(0.6931, grad_fn=<BinaryCrossEntropyWithLogitsBackward0>)\n",
      "loss  tensor(0.6931, grad_fn=<BinaryCrossEntropyWithLogitsBackward0>)\n",
      "loss  tensor(0.6931, grad_fn=<BinaryCrossEntropyWithLogitsBackward0>)\n",
      "done\n"
     ]
    }
   ],
   "source": [
    "import transformers\n",
    "\n",
    "net = net.train()\n",
    "optimizer = transformers.AdamW(lr=5e-4, params=net.parameters())\n",
    "\n",
    "for idx, batch in enumerate(train_dl):\n",
    "    trans_input, subject_vector, object_labels = batch\n",
    "    subject_vector2 = torch.transpose(subject_vector, 0, 1)\n",
    "\n",
    "    predictions = net(trans_input, subject_vector2)\n",
    "    loss = torch.nn.BCEWithLogitsLoss()(predictions, object_labels)\n",
    "    \n",
    "    \n",
    "    # Zero gradients, perform a backward pass, and update the weights.\n",
    "    optimizer.zero_grad()\n",
    "    loss.backward()\n",
    "    optimizer.step()\n",
    "    \n",
    "    print('loss ', loss)\n",
    "    \n",
    "    \n",
    "    if idx > 5:\n",
    "        break\n",
    "    \n",
    "    \n",
    "print('done')"
   ]
  },
  {
   "cell_type": "code",
   "execution_count": null,
   "id": "4666a931",
   "metadata": {},
   "outputs": [],
   "source": []
  }
 ],
 "metadata": {
  "kernelspec": {
   "display_name": "Python 3 (ipykernel)",
   "language": "python",
   "name": "python3"
  },
  "language_info": {
   "codemirror_mode": {
    "name": "ipython",
    "version": 3
   },
   "file_extension": ".py",
   "mimetype": "text/x-python",
   "name": "python",
   "nbconvert_exporter": "python",
   "pygments_lexer": "ipython3",
   "version": "3.7.1"
  }
 },
 "nbformat": 4,
 "nbformat_minor": 5
}
