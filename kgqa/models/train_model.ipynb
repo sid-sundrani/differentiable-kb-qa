{
 "cells": [
  {
   "cell_type": "markdown",
   "id": "0764f93a",
   "metadata": {},
   "source": [
    "### Build model and test follow operation"
   ]
  },
  {
   "cell_type": "code",
   "execution_count": 1,
   "id": "45c7e70b",
   "metadata": {},
   "outputs": [],
   "source": [
    "import os\n",
    "import sys \n",
    "from pathlib import Path \n",
    "\n",
    "%load_ext autoreload\n",
    "%autoreload 2\n",
    "\n",
    "\n",
    "base_dir = Path(os.getcwd()).parents[0]\n",
    "sys.path.append(str(base_dir))\n",
    "\n",
    "from utils import data_utils"
   ]
  },
  {
   "cell_type": "markdown",
   "id": "95fb4f90",
   "metadata": {},
   "source": [
    "### Load Triplets"
   ]
  },
  {
   "cell_type": "code",
   "execution_count": 2,
   "id": "81b815f3",
   "metadata": {},
   "outputs": [
    {
     "name": "stdout",
     "output_type": "stream",
     "text": [
      "num entities: 43234\n",
      "num relations: 9\n",
      "num triplets  134741\n"
     ]
    }
   ],
   "source": [
    "data_dir = base_dir/'data'\n",
    "kg_path = data_dir/'kb.txt'\n",
    "os.listdir(data_dir)\n",
    "assert kg_path.exists()\n",
    "\n",
    "triplets, entity_to_idx, relation_to_idx, idx_to_entity, idx_to_relation = data_utils.load_triplets(kg_path)\n",
    "num_entities = len(entity_to_idx)"
   ]
  },
  {
   "cell_type": "markdown",
   "id": "1fce2638",
   "metadata": {},
   "source": [
    "### Load question transformer"
   ]
  },
  {
   "cell_type": "code",
   "execution_count": 3,
   "id": "04a99cd2",
   "metadata": {},
   "outputs": [],
   "source": [
    "from torch.utils.data import Dataset, DataLoader\n",
    "from transformers import AutoTokenizer, AutoModel\n",
    "import torch\n",
    "import torch.nn.functional as F\n",
    "\n",
    "#Mean Pooling - Take attention mask into account for correct averaging\n",
    "def mean_pooling(model_output, attention_mask):\n",
    "    token_embeddings = model_output[0] #First element of model_output contains all token embeddings\n",
    "    input_mask_expanded = attention_mask.unsqueeze(-1).expand(token_embeddings.size()).float()\n",
    "    return torch.sum(token_embeddings * input_mask_expanded, 1) / torch.clamp(input_mask_expanded.sum(1), min=1e-9)\n",
    "\n",
    "# Sentences we want sentence embeddings for\n",
    "sentences = ['This is an example sentence', 'Each sentence is converted']\n",
    "\n",
    "# # Load model from HuggingFace Hub\n",
    "# tokenizer = AutoTokenizer.from_pretrained('microsoft/MiniLM-L12-H384-uncased')\n",
    "# model = AutoModel.from_pretrained('microsoft/MiniLM-L12-H384-uncased')\n",
    "\n",
    "\n",
    "\n",
    "\n",
    "tokenizer = AutoTokenizer.from_pretrained('sentence-transformers/all-MiniLM-L6-v2')\n",
    "trans_model = AutoModel.from_pretrained('sentence-transformers/all-MiniLM-L6-v2')\n",
    "trans_model.train()\n",
    "\n",
    "\n",
    "for param in trans_model.parameters():\n",
    "    param.requires_grad = False\n",
    "    \n",
    "for layer in trans_model.encoder.layer[4].parameters():\n",
    "    layer.requires_grad_ = True\n",
    "\n",
    "for param in trans_model.encoder.layer[5].parameters():\n",
    "    param.requires_grad = True\n",
    "    \n",
    "for param in trans_model.pooler.parameters(): \n",
    "    param.requires_grad = True"
   ]
  },
  {
   "cell_type": "markdown",
   "id": "50d25034",
   "metadata": {},
   "source": [
    "### Load dataset "
   ]
  },
  {
   "cell_type": "code",
   "execution_count": 4,
   "id": "6fc12cd3",
   "metadata": {},
   "outputs": [
    {
     "name": "stdout",
     "output_type": "stream",
     "text": [
      "Num qa pairs loaded: 9992\n",
      "Num qa pairs loaded: 96106\n",
      "Num qa pairs loaded: 9947\n",
      "number of entities missing 0: []\n"
     ]
    }
   ],
   "source": [
    "import warnings\n",
    "\n",
    "qa_dir = data_dir/'1-hop-20220731T054004Z-001/1-hop/vanilla'\n",
    "qa_paths = os.listdir(qa_dir)\n",
    "\n",
    "qa_train = list(filter(lambda x: 'train' in x, qa_paths))[0]\n",
    "qa_test = list(filter(lambda x: 'test' in x, qa_paths))[0]\n",
    "qa_val = list(filter(lambda x: 'dev' in x, qa_paths))[0]\n",
    "\n",
    "val_pairs = data_utils.load_qa_pairs(qa_dir/qa_val)\n",
    "train_pairs = data_utils.load_qa_pairs(qa_dir/qa_train)\n",
    "test_pairs = data_utils.load_qa_pairs(qa_dir/qa_test)\n",
    "\n",
    "\n",
    "data_utils.santity_check(val_pairs, entity_to_idx)"
   ]
  },
  {
   "cell_type": "markdown",
   "id": "27fe8477",
   "metadata": {},
   "source": [
    "### Tokenize dataset"
   ]
  },
  {
   "cell_type": "code",
   "execution_count": 5,
   "id": "d69aae0b",
   "metadata": {},
   "outputs": [],
   "source": [
    "# # Tokenize sentences\n",
    "val_tokens = tokenizer([row[0] for row in val_pairs], padding=True, truncation=True, max_length=100, return_tensors='pt')\n",
    "train_tokens = tokenizer([row[0] for row in train_pairs], padding=True, truncation=True, max_length=100, return_tensors='pt')\n",
    "test_tokens = tokenizer([row[0] for row in test_pairs], padding=True, truncation=True, max_length=100, return_tensors='pt')"
   ]
  },
  {
   "cell_type": "markdown",
   "id": "80648492",
   "metadata": {},
   "source": [
    "### Create Torch Dataset"
   ]
  },
  {
   "cell_type": "code",
   "execution_count": 6,
   "id": "7490f22b",
   "metadata": {
    "scrolled": true
   },
   "outputs": [],
   "source": [
    "class QADataset(Dataset):\n",
    "    def __init__(self, qa_pairs, q_tokens, entity_to_idx):\n",
    "        self.qa_pairs = qa_pairs\n",
    "        self.entity_to_idx = entity_to_idx\n",
    "        self.q_tokens = q_tokens\n",
    "\n",
    "    def __len__(self):\n",
    "        return len(self.qa_pairs)\n",
    "\n",
    "    def __getitem__(self, idx):\n",
    "        pad = 5\n",
    "        token_sample = {key: self.q_tokens[key][idx, :] for key in self.q_tokens}\n",
    "        \n",
    "        head_entities = self.qa_pairs[idx][2]\n",
    "        head_entities = [self.entity_to_idx[entity] for entity in head_entities]\n",
    "                \n",
    "        head_entities = self.create_onehot_entity_vector(head_entities)\n",
    "        \n",
    "        tail_entities = self.qa_pairs[idx][1]\n",
    "        tail_entities = [self.entity_to_idx[entity] for entity in tail_entities]\n",
    "        \n",
    "        tail_entities = self.create_onehot_entity_vector(tail_entities)\n",
    "        \n",
    "        return token_sample, head_entities, tail_entities\n",
    "        \n",
    "    \n",
    "    def pad_entity(self, list1, pad=5):\n",
    "        # max length should be this \n",
    "        if len(list1) > pad:\n",
    "            list1 = list1[:pad]\n",
    "        \n",
    "        assert len(list1) > 0\n",
    "        \n",
    "        list1 = list1 + [-1] * (pad-len(list1))\n",
    "        return list1\n",
    "    \n",
    "    def create_onehot_entity_vector(self, entities):\n",
    "        \"\"\"\n",
    "        Inputs: entities: list of ints \n",
    "        \n",
    "        \"\"\"\n",
    "        num_entities = len(self.entity_to_idx)\n",
    "        \n",
    "        entity_tensor = torch.zeros(num_entities)\n",
    "        entity_tensor[entities] = 1\n",
    "        \n",
    "        return entity_tensor\n",
    "        \n",
    "        \n",
    "        \n",
    "val_dataset = QADataset(val_pairs, val_tokens, entity_to_idx)\n",
    "test_dataset = QADataset(test_pairs, test_tokens, entity_to_idx)\n",
    "train_dataset = QADataset(train_pairs, train_tokens, entity_to_idx)\n",
    "\n",
    "val_dl = DataLoader(val_dataset, batch_size=64)\n",
    "train_dl = DataLoader(train_dataset, batch_size=128, shuffle=True)\n",
    "test_dl = DataLoader(test_dataset, batch_size=64)\n",
    "\n",
    "for batch in train_dl:\n",
    "    break\n",
    "    "
   ]
  },
  {
   "cell_type": "code",
   "execution_count": 7,
   "id": "56ae7805",
   "metadata": {},
   "outputs": [],
   "source": [
    "## Test forward pass of transfomer \n",
    "\n",
    "# with torch.no_grad():\n",
    "#     out = trans_model(**batch[0])\n",
    "    \n",
    "# print(out.keys())"
   ]
  },
  {
   "cell_type": "code",
   "execution_count": 8,
   "id": "5101c30b",
   "metadata": {},
   "outputs": [],
   "source": [
    "# out['last_hidden_state'][:, 0, :].shape"
   ]
  },
  {
   "cell_type": "markdown",
   "id": "d6056333",
   "metadata": {},
   "source": [
    "### Create differentiable KG"
   ]
  },
  {
   "cell_type": "code",
   "execution_count": 9,
   "id": "0a3d2cdd",
   "metadata": {},
   "outputs": [],
   "source": [
    "subject_matrix, rel_matrix, object_matrix = data_utils.create_differentiable_kg(triplets, entity_to_idx, relation_to_idx)\n",
    "object_matrix = torch.transpose(object_matrix, 0, 1)\n"
   ]
  },
  {
   "cell_type": "markdown",
   "id": "d5c6f26c",
   "metadata": {},
   "source": [
    "### Create model"
   ]
  },
  {
   "cell_type": "code",
   "execution_count": 10,
   "id": "26a99cf4",
   "metadata": {},
   "outputs": [],
   "source": [
    "import models_onehop\n",
    "\n",
    "net = models_onehop.GNNLightning(trans_model, subject_matrix, rel_matrix, object_matrix)"
   ]
  },
  {
   "cell_type": "code",
   "execution_count": null,
   "id": "01652f9d",
   "metadata": {
    "scrolled": true
   },
   "outputs": [
    {
     "name": "stderr",
     "output_type": "stream",
     "text": [
      "GPU available: True, used: True\n",
      "TPU available: False, using: 0 TPU cores\n",
      "IPU available: False, using: 0 IPUs\n",
      "HPU available: False, using: 0 HPUs\n",
      "C:\\Users\\Sidhant\\AppData\\Local\\Programs\\Miniconda3\\envs\\gnn\\lib\\site-packages\\pytorch_lightning\\callbacks\\model_checkpoint.py:611: UserWarning: Checkpoint directory C:\\Users\\Sidhant\\Documents\\projects_research\\graph_qa\\kgqa\\models\\checkpoints exists and is not empty.\n",
      "  rank_zero_warn(f\"Checkpoint directory {dirpath} exists and is not empty.\")\n",
      "LOCAL_RANK: 0 - CUDA_VISIBLE_DEVICES: [0]\n",
      "C:\\Users\\Sidhant\\AppData\\Local\\Programs\\Miniconda3\\envs\\gnn\\lib\\site-packages\\transformers\\optimization.py:309: FutureWarning: This implementation of AdamW is deprecated and will be removed in a future version. Use the PyTorch implementation torch.optim.AdamW instead, or set `no_deprecation_warning=True` to disable this warning\n",
      "  FutureWarning,\n",
      "\n",
      "  | Name        | Type      | Params\n",
      "------------------------------------------\n",
      "0 | trans_model | BertModel | 22.7 M\n",
      "1 | decoder     | Linear    | 3.5 K \n",
      "------------------------------------------\n",
      "1.9 M     Trainable params\n",
      "20.8 M    Non-trainable params\n",
      "22.7 M    Total params\n",
      "90.867    Total estimated model params size (MB)\n"
     ]
    },
    {
     "data": {
      "application/vnd.jupyter.widget-view+json": {
       "model_id": "",
       "version_major": 2,
       "version_minor": 0
      },
      "text/plain": [
       "Sanity Checking: 0it [00:00, ?it/s]"
      ]
     },
     "metadata": {},
     "output_type": "display_data"
    },
    {
     "name": "stderr",
     "output_type": "stream",
     "text": [
      "C:\\Users\\Sidhant\\AppData\\Local\\Programs\\Miniconda3\\envs\\gnn\\lib\\site-packages\\pytorch_lightning\\trainer\\connectors\\data_connector.py:245: PossibleUserWarning: The dataloader, val_dataloader 0, does not have many workers which may be a bottleneck. Consider increasing the value of the `num_workers` argument` (try 12 which is the number of cpus on this machine) in the `DataLoader` init to improve performance.\n",
      "  category=PossibleUserWarning,\n",
      "C:\\Users\\Sidhant\\AppData\\Local\\Programs\\Miniconda3\\envs\\gnn\\lib\\site-packages\\pytorch_lightning\\trainer\\connectors\\data_connector.py:245: PossibleUserWarning: The dataloader, train_dataloader, does not have many workers which may be a bottleneck. Consider increasing the value of the `num_workers` argument` (try 12 which is the number of cpus on this machine) in the `DataLoader` init to improve performance.\n",
      "  category=PossibleUserWarning,\n"
     ]
    },
    {
     "data": {
      "application/vnd.jupyter.widget-view+json": {
       "model_id": "6d39bde0fb124741b82efdc02491906a",
       "version_major": 2,
       "version_minor": 0
      },
      "text/plain": [
       "Training: 0it [00:00, ?it/s]"
      ]
     },
     "metadata": {},
     "output_type": "display_data"
    }
   ],
   "source": [
    "import pytorch_lightning as pl\n",
    "from pytorch_lightning.callbacks.early_stopping import EarlyStopping\n",
    "from pytorch_lightning.callbacks.model_checkpoint import ModelCheckpoint\n",
    "from pytorch_lightning.loggers import TensorBoardLogger\n",
    "\n",
    "max_epochs = 5 \n",
    "USE_GPU = True \n",
    "\n",
    "early_stop_callback = EarlyStopping(monitor=\"val_precision\", \n",
    "                                    min_delta=0.001,\n",
    "                                    patience=2, \n",
    "                                    verbose=False, \n",
    "                                    mode=\"max\")\n",
    "\n",
    "checkpoint_callback = ModelCheckpoint(monitor=f\"val_precision\",\n",
    "                                    save_top_k=1,\n",
    "                                      dirpath='checkpoints',\n",
    "                                      mode='max',\n",
    "                                    )\n",
    "\n",
    "callbacks=[early_stop_callback, checkpoint_callback]\n",
    "\n",
    "if USE_GPU:\n",
    "    net.object_matrix = net.object_matrix.cuda()\n",
    "    net.subject_matrix = net.subject_matrix.cuda()\n",
    "    net.rel_matrix = net.rel_matrix.cuda()\n",
    "    gpus = 1 \n",
    "else:\n",
    "    net = net.cpu()\n",
    "    net.object_matrix = net.object_matrix.cpu()\n",
    "    net.subject_matrix = net.subject_matrix.cpu()\n",
    "    net.rel_matrix = net.rel_matrix.cpu()\n",
    "    \n",
    "    gpus = 0\n",
    "    \n",
    "logger = TensorBoardLogger(\"tb_logs\", name=\"kq-baseline-finetune\")\n",
    "\n",
    "trainer = pl.Trainer(max_epochs=max_epochs, gpus=gpus, logger=logger, callbacks=[early_stop_callback, checkpoint_callback])\n",
    "trainer.fit(net, train_dl, val_dl)\n",
    "\n",
    "CKPT_PATH = trainer.checkpoint_callback.best_model_path\n",
    "\n",
    "# net = net.load_from_checkpoint(CKPT_PATH, input_dim=dataset.num_node_features, hidden_dim=300, output_dim=dataset.num_classes, split_idx=None)\n",
    "# res = trainer.validate(net, loader)\n",
    "\n",
    "# test_res = trainer.test(net, loader)\n",
    "# valid_metrics.append(test_res[0]['test_acc'])\n",
    "\n",
    "# print('Number of epochs ran ',  trainer.current_epoch)\n",
    "# print('test metrics ', test_res)\n"
   ]
  },
  {
   "cell_type": "code",
   "execution_count": 1,
   "id": "fec53c72",
   "metadata": {
    "scrolled": true
   },
   "outputs": [
    {
     "data": {
      "text/plain": [
       "1"
      ]
     },
     "execution_count": 1,
     "metadata": {},
     "output_type": "execute_result"
    }
   ],
   "source": [
    "# net = net.train()\n",
    "\n",
    "# net = net.cpu()\n",
    "# net.object_matrix = net.object_matrix.cpu()\n",
    "# net.subject_matrix = net.subject_matrix.cpu()\n",
    "# net.rel_matrix = net.rel_matrix.cpu()\n",
    "\n",
    "# for idx, batch in enumerate(train_dl):\n",
    "#         trans_input, subject_vector, object_labels = batch\n",
    "#         subject_vector2 = torch.transpose(subject_vector, 0, 1)\n",
    "\n",
    "#         predictions = net(trans_input, subject_vector2)\n",
    "        \n",
    "#         loss = models_onehop.calculate_BCE(predictions, object_labels)\n",
    "# #         loss = torch.nn.BCEWithLogitsLoss()(predictions, object_labels)\n",
    "            \n",
    "\n",
    "#         if idx > 10:\n",
    "#             break\n",
    "    \n",
    "    \n",
    "# print('done')\n",
    "1"
   ]
  },
  {
   "cell_type": "code",
   "execution_count": 12,
   "id": "a479aab6",
   "metadata": {},
   "outputs": [],
   "source": [
    "# input = torch.randn(3, 2, requires_grad=True)\n",
    "# target = torch.rand(3, 2, requires_grad=False)\n",
    "# loss = F.binary_cross_entropy(predictions, object_labels)\n",
    "# loss.backward()"
   ]
  },
  {
   "cell_type": "code",
   "execution_count": 18,
   "id": "e29f3f6f",
   "metadata": {
    "scrolled": true
   },
   "outputs": [
    {
     "ename": "NameError",
     "evalue": "name 'predictions2' is not defined",
     "output_type": "error",
     "traceback": [
      "\u001b[1;31m---------------------------------------------------------------------------\u001b[0m",
      "\u001b[1;31mNameError\u001b[0m                                 Traceback (most recent call last)",
      "\u001b[1;32m~\\AppData\\Local\\Temp\\ipykernel_1352\\2446628098.py\u001b[0m in \u001b[0;36m<module>\u001b[1;34m\u001b[0m\n\u001b[0;32m      9\u001b[0m \u001b[1;33m\u001b[0m\u001b[0m\n\u001b[0;32m     10\u001b[0m     \u001b[0mpredictions\u001b[0m \u001b[1;33m=\u001b[0m \u001b[0mnet\u001b[0m\u001b[1;33m(\u001b[0m\u001b[0mtrans_input\u001b[0m\u001b[1;33m,\u001b[0m \u001b[0msubject_vector2\u001b[0m\u001b[1;33m)\u001b[0m\u001b[1;33m\u001b[0m\u001b[1;33m\u001b[0m\u001b[0m\n\u001b[1;32m---> 11\u001b[1;33m     \u001b[0mloss\u001b[0m \u001b[1;33m=\u001b[0m \u001b[0mtorch\u001b[0m\u001b[1;33m.\u001b[0m\u001b[0mnn\u001b[0m\u001b[1;33m.\u001b[0m\u001b[0mBCELoss\u001b[0m\u001b[1;33m(\u001b[0m\u001b[1;33m)\u001b[0m\u001b[1;33m(\u001b[0m\u001b[0mpredictions2\u001b[0m\u001b[1;33m,\u001b[0m \u001b[0mobject_labels\u001b[0m\u001b[1;33m)\u001b[0m\u001b[1;33m\u001b[0m\u001b[1;33m\u001b[0m\u001b[0m\n\u001b[0m\u001b[0;32m     12\u001b[0m \u001b[1;33m\u001b[0m\u001b[0m\n\u001b[0;32m     13\u001b[0m     \u001b[1;31m# Zero gradients, perform a backward pass, and update the weights.\u001b[0m\u001b[1;33m\u001b[0m\u001b[1;33m\u001b[0m\u001b[1;33m\u001b[0m\u001b[0m\n",
      "\u001b[1;31mNameError\u001b[0m: name 'predictions2' is not defined"
     ]
    }
   ],
   "source": [
    "# import transformers\n",
    "\n",
    "\n",
    "# net = net.cpu()\n",
    "# net.object_matrix = net.object_matrix.cpu()\n",
    "# net.subject_matrix = net.subject_matrix.cpu()\n",
    "# net.rel_matrix = net.rel_matrix.cpu()\n",
    "\n",
    "# net = net.train()\n",
    "# optimizer = transformers.AdamW(lr=5e-4, params=net.parameters())\n",
    "\n",
    "# for idx, batch in enumerate(train_dl):\n",
    "#     trans_input, subject_vector, object_labels = batch\n",
    "#     subject_vector2 = torch.transpose(subject_vector, 0, 1)\n",
    "\n",
    "#     predictions = net(trans_input, subject_vector2)\n",
    "#     loss = torch.nn.BCELoss()(predictions2, object_labels)\n",
    "    \n",
    "#     # Zero gradients, perform a backward pass, and update the weights.\n",
    "#     optimizer.zero_grad()\n",
    "#     loss.backward()\n",
    "#     optimizer.step()\n",
    "    \n",
    "#     print('loss ', loss)\n",
    "    \n",
    "    \n",
    "#     if idx > 5:\n",
    "#         break\n",
    "    \n",
    "    \n",
    "# print('done')"
   ]
  },
  {
   "cell_type": "markdown",
   "id": "b3838c17",
   "metadata": {},
   "source": [
    "### Debug Metrics "
   ]
  },
  {
   "cell_type": "code",
   "execution_count": 4,
   "id": "2a995e70",
   "metadata": {},
   "outputs": [
    {
     "name": "stdout",
     "output_type": "stream",
     "text": [
      "tensor(0.5000)\n",
      "tensor(0.5000)\n",
      "tensor(0.5000)\n",
      "(tensor(0.2500), tensor(0.5000))\n"
     ]
    }
   ],
   "source": [
    "import torch\n",
    "from torchmetrics import Accuracy, F1Score, Precision, Recall\n",
    "import models_onehop\n",
    "\n",
    "preds = torch.Tensor([[0.2, 0.8, 0.], [0., 0.6, 0.3]])\n",
    "true = torch.LongTensor([[0, 1, 1], [0, 0, 1]])\n",
    "\n",
    "accuracy = Accuracy(macro='samples', multiclass=True, threshold=0.5)\n",
    "print(accuracy(preds, true))\n",
    "\n",
    "get_precision = Precision(mdmc_average ='samplewise', multiclass=True, threshold=0.5)\n",
    "print(get_precision(preds, true))\n",
    "\n",
    "get_recall = Recall(mdmc_average ='global', average='samples', multiclass=True, threshold=0.5)\n",
    "print(get_recall(preds, true))\n",
    "\n",
    "precision = models_onehop.compute_multilabel_precision(preds, true)\n",
    "print(precision)"
   ]
  },
  {
   "cell_type": "code",
   "execution_count": 173,
   "id": "41edf7f8",
   "metadata": {},
   "outputs": [
    {
     "data": {
      "text/plain": [
       "tensor(1.)"
      ]
     },
     "execution_count": 173,
     "metadata": {},
     "output_type": "execute_result"
    }
   ],
   "source": [
    "def get_hit_k1(preds, true):\n",
    "    \"\"\"\n",
    "    Calulates mean hit @ k = 1\n",
    "    \"\"\"\n",
    "\n",
    "    preds_k1 = preds.argmax(1)\n",
    "    \n",
    "    # required in this format to use gather \n",
    "    pred_indices = torch.LongTensor([[pred.item()] for pred in preds_k1], device=true.device)\n",
    "    \n",
    "    # get how many of these indices correspond with true value\n",
    "    hits = true.gather(1, pred_indices)\n",
    "    \n",
    "    mean_hit = hits.mean()\n",
    "\n",
    "    return mean_hit\n",
    "\n",
    "get_hit_k1(preds, true)"
   ]
  }
 ],
 "metadata": {
  "kernelspec": {
   "display_name": "Python 3 (ipykernel)",
   "language": "python",
   "name": "python3"
  },
  "language_info": {
   "codemirror_mode": {
    "name": "ipython",
    "version": 3
   },
   "file_extension": ".py",
   "mimetype": "text/x-python",
   "name": "python",
   "nbconvert_exporter": "python",
   "pygments_lexer": "ipython3",
   "version": "3.7.1"
  }
 },
 "nbformat": 4,
 "nbformat_minor": 5
}
