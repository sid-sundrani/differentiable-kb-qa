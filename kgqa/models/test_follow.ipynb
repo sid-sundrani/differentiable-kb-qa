{
 "cells": [
  {
   "cell_type": "markdown",
   "id": "2f49b231",
   "metadata": {},
   "source": [
    "### Build model and test follow operation"
   ]
  },
  {
   "cell_type": "code",
   "execution_count": 27,
   "id": "b7313121",
   "metadata": {},
   "outputs": [
    {
     "name": "stdout",
     "output_type": "stream",
     "text": [
      "The autoreload extension is already loaded. To reload it, use:\n",
      "  %reload_ext autoreload\n"
     ]
    }
   ],
   "source": [
    "import os\n",
    "import sys \n",
    "from pathlib import Path \n",
    "\n",
    "%load_ext autoreload\n",
    "%autoreload 2\n",
    "\n",
    "\n",
    "base_dir = Path(os.getcwd()).parents[0]\n",
    "sys.path.append(str(base_dir))\n",
    "\n",
    "from utils import data_utils"
   ]
  },
  {
   "cell_type": "markdown",
   "id": "d09d44f1",
   "metadata": {},
   "source": [
    "### Load Triplets"
   ]
  },
  {
   "cell_type": "code",
   "execution_count": 29,
   "id": "2a8d5fe9",
   "metadata": {},
   "outputs": [
    {
     "name": "stdout",
     "output_type": "stream",
     "text": [
      "num entities: 43234\n",
      "num relations: 9\n",
      "num triplets  134741\n"
     ]
    }
   ],
   "source": [
    "data_dir = base_dir/'data'\n",
    "kg_path = data_dir/'kb.txt'\n",
    "os.listdir(data_dir)\n",
    "assert kg_path.exists()\n",
    "\n",
    "triplets, entity_to_idx, relation_to_idx, idx_to_entity, idx_to_relation = data_utils.load_triplets(kg_path)\n",
    "num_entities = len(entity_to_idx)"
   ]
  },
  {
   "cell_type": "markdown",
   "id": "a35fa2d0",
   "metadata": {},
   "source": [
    "### Load question transformer"
   ]
  },
  {
   "cell_type": "code",
   "execution_count": 30,
   "id": "9aa7fe16",
   "metadata": {},
   "outputs": [],
   "source": [
    "from torch.utils.data import Dataset, DataLoader\n",
    "from transformers import AutoTokenizer, AutoModel\n",
    "import torch\n",
    "import torch.nn.functional as F\n",
    "\n",
    "#Mean Pooling - Take attention mask into account for correct averaging\n",
    "def mean_pooling(model_output, attention_mask):\n",
    "    token_embeddings = model_output[0] #First element of model_output contains all token embeddings\n",
    "    input_mask_expanded = attention_mask.unsqueeze(-1).expand(token_embeddings.size()).float()\n",
    "    return torch.sum(token_embeddings * input_mask_expanded, 1) / torch.clamp(input_mask_expanded.sum(1), min=1e-9)\n",
    "\n",
    "# Sentences we want sentence embeddings for\n",
    "sentences = ['This is an example sentence', 'Each sentence is converted']\n",
    "\n",
    "# Load model from HuggingFace Hub\n",
    "tokenizer = AutoTokenizer.from_pretrained('microsoft/MiniLM-L12-H384-uncased')\n",
    "model = AutoModel.from_pretrained('microsoft/MiniLM-L12-H384-uncased')"
   ]
  },
  {
   "cell_type": "markdown",
   "id": "155bf0c9",
   "metadata": {},
   "source": [
    "### Load dataset "
   ]
  },
  {
   "cell_type": "code",
   "execution_count": 31,
   "id": "eb337f8c",
   "metadata": {},
   "outputs": [
    {
     "name": "stdout",
     "output_type": "stream",
     "text": [
      "C:\\Users\\Sidhant\\Documents\\projects_research\\graph_qa\\kgqa\\data\\1-hop-20220731T054004Z-001\\1-hop\\vanilla\\qa_dev.txt\n",
      "Num qa pairs loaded: 9992\n",
      "number of entities missing 0: []\n"
     ]
    }
   ],
   "source": [
    "import warnings\n",
    "\n",
    "qa_dir = data_dir/'1-hop-20220731T054004Z-001/1-hop/vanilla'\n",
    "qa_paths = os.listdir(qa_dir)\n",
    "\n",
    "qa_path = qa_dir/qa_paths[0]\n",
    "\n",
    "print(qa_path)\n",
    "val_pairs = data_utils.load_qa_pairs(qa_path)\n",
    "data_utils.santity_check(val_pairs, entity_to_idx)"
   ]
  },
  {
   "cell_type": "markdown",
   "id": "ab7c0cde",
   "metadata": {},
   "source": [
    "### Tokenize dataset"
   ]
  },
  {
   "cell_type": "code",
   "execution_count": 32,
   "id": "67de24e6",
   "metadata": {},
   "outputs": [
    {
     "name": "stderr",
     "output_type": "stream",
     "text": [
      "Asking to truncate to max_length but no maximum length is provided and the model has no predefined maximum length. Default to no truncation.\n"
     ]
    }
   ],
   "source": [
    "# # Tokenize sentences\n",
    "sentences = [row[0] for row in val_pairs]\n",
    "val_tokens = tokenizer(sentences, padding=True, truncation=True, return_tensors='pt')\n"
   ]
  },
  {
   "cell_type": "markdown",
   "id": "16505532",
   "metadata": {},
   "source": [
    "### Create Torch Dataset"
   ]
  },
  {
   "cell_type": "code",
   "execution_count": 33,
   "id": "1eb7933f",
   "metadata": {},
   "outputs": [
    {
     "data": {
      "text/plain": [
       "torch.Size([10, 23])"
      ]
     },
     "execution_count": 33,
     "metadata": {},
     "output_type": "execute_result"
    }
   ],
   "source": [
    "class QADataset(Dataset):\n",
    "    def __init__(self, qa_pairs, q_tokens, entity_to_idx):\n",
    "        self.qa_pairs = qa_pairs\n",
    "        self.entity_to_idx = entity_to_idx\n",
    "        self.q_tokens = q_tokens\n",
    "\n",
    "    def __len__(self):\n",
    "        return len(self.qa_pairs)\n",
    "\n",
    "    def __getitem__(self, idx):\n",
    "        pad = 5\n",
    "        token_sample = {key: self.q_tokens[key][idx, :] for key in self.q_tokens}\n",
    "        \n",
    "        head_entities = self.qa_pairs[idx][2]\n",
    "        head_entities = [self.entity_to_idx[entity] for entity in head_entities]\n",
    "                \n",
    "        # padded\n",
    "        head_entities = self.pad_entity(head_entities, pad=pad)\n",
    "        head_entities = torch.LongTensor(head_entities)\n",
    "        tail_entities = self.qa_pairs[idx][1]\n",
    "        tail_entities = [self.entity_to_idx[entity] for entity in tail_entities]\n",
    "        \n",
    "        tail_entities = self.pad_entity(tail_entities, pad=pad)\n",
    "        tail_entities = torch.LongTensor(tail_entities)\n",
    "        \n",
    "        return token_sample, head_entities, tail_entities\n",
    "        \n",
    "    \n",
    "    def pad_entity(self, list1, pad=5):\n",
    "        # max length should be this \n",
    "        if len(list1) > pad:\n",
    "            list1 = list1[:pad]\n",
    "        \n",
    "        assert len(list1) > 0\n",
    "        \n",
    "        list1 = list1 + [-1] * (pad-len(list1))\n",
    "        return list1\n",
    "        \n",
    "        \n",
    "val_dataset = QADataset(val_pairs, val_tokens, entity_to_idx)\n",
    "\n",
    "\n",
    "dl = DataLoader(val_dataset, batch_size=10)\n",
    "\n",
    "for batch in dl:\n",
    "    break\n",
    "    \n",
    "batch[0]['input_ids'].shape"
   ]
  },
  {
   "cell_type": "code",
   "execution_count": 35,
   "id": "5d59bf82",
   "metadata": {},
   "outputs": [],
   "source": [
    "## Test forward pass of transfomer \n",
    "\n",
    "with torch.no_grad():\n",
    "    out = model(**batch[0])\n",
    "    out.pooler_output"
   ]
  },
  {
   "cell_type": "markdown",
   "id": "599028cf",
   "metadata": {},
   "source": [
    "### Create differentiable KG"
   ]
  },
  {
   "cell_type": "code",
   "execution_count": 36,
   "id": "b266126c",
   "metadata": {},
   "outputs": [],
   "source": [
    "subject_matrix, rel_matrix, object_matrix = data_utils.create_differentiable_kg(triplets, entity_to_idx, relation_to_idx)\n",
    "object_matrix = torch.transpose(object_matrix, 0, 1)\n"
   ]
  },
  {
   "cell_type": "markdown",
   "id": "afb87361",
   "metadata": {},
   "source": [
    "### Create model"
   ]
  },
  {
   "cell_type": "code",
   "execution_count": 38,
   "id": "76949ebe",
   "metadata": {},
   "outputs": [],
   "source": [
    "import models_onehop\n",
    "\n",
    "net = models_onehop.GNNLightning(model, subject_matrix, rel_matrix, object_matrix)"
   ]
  },
  {
   "cell_type": "markdown",
   "id": "c509494e",
   "metadata": {},
   "source": [
    "### Test Follow Operation"
   ]
  },
  {
   "cell_type": "code",
   "execution_count": 39,
   "id": "c17f1663",
   "metadata": {},
   "outputs": [],
   "source": [
    "# this model assumes only 1 subject exists\n",
    "subject_ids = batch[1][:, 0]\n",
    "# print(subject_ids)\n",
    "subject_vector = torch.zeros(batch[1].shape[0], num_entities)\n",
    "subject_vector[range(0, subject_vector.shape[0]), subject_ids] = 1\n",
    "subject_vector = torch.transpose(subject_vector, 0, 1)"
   ]
  },
  {
   "cell_type": "code",
   "execution_count": 40,
   "id": "a0835439",
   "metadata": {},
   "outputs": [],
   "source": [
    "# def create_sparse_subject():\n",
    "#     bs = batch[1].shape[0]\n",
    "#     bs_ids = torch.Tensor(range(0, bs))\n",
    "#     indices = torch.cat([subject_ids[None, :], bs_ids[None, :]])\n",
    "#     values = torch.FloatTensor([1] * len(bs_ids))\n",
    "#     subject_vector = torch.sparse_coo_tensor(indices, values, size=(len(entity_to_idx), bs))\n",
    "    \n",
    "#     return subject_vector\n",
    "\n",
    "# # subject_vector = create_sparse_subject()\n",
    "# subject_vector = torch.transpose(subject_vector, 0, 1)"
   ]
  },
  {
   "cell_type": "code",
   "execution_count": 41,
   "id": "5ed1c643",
   "metadata": {
    "scrolled": false
   },
   "outputs": [
    {
     "name": "stdout",
     "output_type": "stream",
     "text": [
      "torch.Size([43234, 10]) torch.Size([134741, 43234])\n",
      "relation  torch.Size([10, 9])\n",
      "subject_vector torch.Size([43234, 10])\n",
      "subject_matrix torch.Size([134741, 43234])\n",
      "rel_matrix  torch.Size([134741, 9])\n",
      "object_matrix1  torch.Size([43234, 134741])\n"
     ]
    },
    {
     "data": {
      "text/plain": [
       "torch.Size([10, 43234])"
      ]
     },
     "execution_count": 41,
     "metadata": {},
     "output_type": "execute_result"
    }
   ],
   "source": [
    "print(subject_vector.shape, subject_matrix.shape)\n",
    "bs = batch[1].shape[0]\n",
    "relation = torch.randn(bs, 9)\n",
    "\n",
    "\n",
    "\n",
    "print('relation ', relation.shape)\n",
    "print('subject_vector', subject_vector.shape)\n",
    "print('subject_matrix', subject_matrix.shape)\n",
    "print('rel_matrix ', rel_matrix.shape)\n",
    "print('object_matrix1 ', object_matrix.shape)\n",
    "\n",
    "out = net.follow(subject_vector, relation, subject_matrix, rel_matrix, object_matrix)\n",
    "out.shape"
   ]
  },
  {
   "cell_type": "code",
   "execution_count": null,
   "id": "36b49528",
   "metadata": {},
   "outputs": [],
   "source": []
  }
 ],
 "metadata": {
  "kernelspec": {
   "display_name": "Python 3 (ipykernel)",
   "language": "python",
   "name": "python3"
  },
  "language_info": {
   "codemirror_mode": {
    "name": "ipython",
    "version": 3
   },
   "file_extension": ".py",
   "mimetype": "text/x-python",
   "name": "python",
   "nbconvert_exporter": "python",
   "pygments_lexer": "ipython3",
   "version": "3.7.1"
  }
 },
 "nbformat": 4,
 "nbformat_minor": 5
}
